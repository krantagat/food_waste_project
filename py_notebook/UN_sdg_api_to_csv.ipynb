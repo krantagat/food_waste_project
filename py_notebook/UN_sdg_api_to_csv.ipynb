{
 "cells": [
  {
   "cell_type": "code",
   "execution_count": 4,
   "metadata": {},
   "outputs": [],
   "source": [
    "import pandas as pd\n",
    "import requests\n",
    "\n"
   ]
  },
  {
   "cell_type": "code",
   "execution_count": 5,
   "metadata": {},
   "outputs": [],
   "source": [
    "#Import all Goal 12 [Responsible consumption and production] Target 12.3 -Halve Global per capita food waste\n",
    "\n",
    "\n",
    "# Empty list to store combined data\n",
    "combined_data12_3 = []\n",
    "\n",
    "# Iterate through pages\n",
    "for page in range(1,6):\n",
    "    \n",
    "\n",
    "    api_url = f'https://unstats.un.org/sdgapi/v1/sdg/Target/Data?target=14.3&page={page}&pageSize=1000'\n",
    "    \n",
    "    # Fetch JSON data for each page\n",
    "    response = requests.get(api_url)\n",
    "    api_info = response.json()\n",
    "    \n",
    "    # Append the \"data\" array from each page to the combined list\n",
    "    combined_data12_3.extend(api_info['data'])\n",
    "\n",
    "# Add the combined \"data\" to the original JSON object\n",
    "api_sum = combined_data12_3\n",
    "\n",
    "# \n",
    "df_api = pd.DataFrame(api_sum)\n",
    "df_api.to_csv('../source/api_data12_3.csv',index=False)\n",
    "\n",
    "\n",
    "\n"
   ]
  },
  {
   "cell_type": "code",
   "execution_count": 2,
   "metadata": {},
   "outputs": [],
   "source": [
    "import pandas as pd\n",
    "import requests\n",
    "\n",
    "\n",
    "#Import all Goal 12 [Responsible consumption and production]\n",
    "\n",
    "\n",
    "# Empty list to store combined data\n",
    "combined_data12 = []\n",
    "\n",
    "# Iterate through pages\n",
    "for page in range(1,16):\n",
    "    api_url = f'https://unstats.un.org/sdgapi/v1/sdg/Goal/Data?goal=12&&page={page}&pageSize=1000'\n",
    "    \n",
    "    # Fetch JSON data for each page\n",
    "    response = requests.get(api_url)\n",
    "    api_info = response.json()\n",
    "    \n",
    "    # Append the \"data\" array from each page to the combined list\n",
    "    combined_data12.extend(api_info['data'])\n",
    "\n",
    "# Add the combined \"data\" to the original JSON object\n",
    "api_sum = combined_data12\n",
    "\n",
    "# \n",
    "df_api = pd.DataFrame(api_sum)\n",
    "df_api.to_csv('../source/api_data12.csv',index=False)\n",
    "\n",
    "\n",
    "\n"
   ]
  },
  {
   "cell_type": "code",
   "execution_count": null,
   "metadata": {},
   "outputs": [],
   "source": []
  }
 ],
 "metadata": {
  "kernelspec": {
   "display_name": "base",
   "language": "python",
   "name": "python3"
  },
  "language_info": {
   "codemirror_mode": {
    "name": "ipython",
    "version": 3
   },
   "file_extension": ".py",
   "mimetype": "text/x-python",
   "name": "python",
   "nbconvert_exporter": "python",
   "pygments_lexer": "ipython3",
   "version": "3.11.5"
  }
 },
 "nbformat": 4,
 "nbformat_minor": 2
}
