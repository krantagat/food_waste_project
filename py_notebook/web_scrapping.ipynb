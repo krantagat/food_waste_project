{
 "cells": [
  {
   "cell_type": "code",
   "execution_count": 13,
   "metadata": {},
   "outputs": [],
   "source": [
    "#web_scrapping \n",
    "from bs4 import BeautifulSoup\n",
    "import requests\n",
    "import pandas as pd\n",
    "\n",
    "\n"
   ]
  },
  {
   "cell_type": "code",
   "execution_count": 31,
   "metadata": {},
   "outputs": [],
   "source": [
    "url = 'https://swnsdigital.com/uk/2023/02/these-are-the-top-20-unwanted-fruit-and-vegetables-from-bagged-salad-leaves-to-bananas/'\n",
    "response = requests.get(url)\n",
    "soup = BeautifulSoup(response.content, \"html.parser\")\n",
    "\n",
    "\n",
    "# Find all <li> elements\n",
    "list_items = soup.find_all('li')\n",
    "\n",
    "\n",
    "# Initialize an empty list to store data\n",
    "data = []\n",
    "\n",
    "# Iterate through each <li> element\n",
    "for li in list_items:\n",
    "    # Find <span> elements within the <li> element\n",
    "    span_elements = li.find_all('span')\n",
    "    # Extract the text content of each <span> element\n",
    "    span_texts = [span.text for span in span_elements]\n",
    "    # Add the extracted data to the list\n",
    "    data.append(span_texts)\n",
    "\n",
    "# Create a DataFrame from the extracted data\n",
    "df = pd.DataFrame(data)  # Adjust column names as needed\n",
    "\n",
    "# Print the DataFrame\n",
    "df = df.dropna().reset_index(drop=True)\n",
    "df= df.rename(columns={0:'top_fruit_veg_wasted'})\n",
    "df.to_csv('../source/top_fruit_veg_wasted.csv',index=False)\n"
   ]
  }
 ],
 "metadata": {
  "kernelspec": {
   "display_name": "base",
   "language": "python",
   "name": "python3"
  },
  "language_info": {
   "codemirror_mode": {
    "name": "ipython",
    "version": 3
   },
   "file_extension": ".py",
   "mimetype": "text/x-python",
   "name": "python",
   "nbconvert_exporter": "python",
   "pygments_lexer": "ipython3",
   "version": "3.11.5"
  }
 },
 "nbformat": 4,
 "nbformat_minor": 2
}
