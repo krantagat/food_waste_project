{
 "cells": [
  {
   "cell_type": "code",
   "execution_count": 1,
   "metadata": {},
   "outputs": [],
   "source": [
    "import pandas as pd\n",
    "from sqlalchemy import create_engine \n",
    "import pymysql.cursors\n",
    "import os\n",
    "\n",
    "import urllib.parse\n",
    "\n",
    "\n",
    "pw_raw = os.getenv('kranta_sql_password')\n",
    "pw = urllib.parse.quote_plus(pw_raw)"
   ]
  },
  {
   "cell_type": "code",
   "execution_count": 2,
   "metadata": {},
   "outputs": [],
   "source": [
    "\n",
    "# Dictionary containing DataFrame names and their corresponding CSV file names\n",
    "dfs_to_import = {\n",
    "    'df_waste_per_c': 'df_waste_per_c.csv',\n",
    "    'df_waste_cap_c': 'df_waste_cap_c.csv',\n",
    "    'df_kilo_capita_c': 'df_kilo_capita_c.csv',\n",
    "    'df_tonne_c': 'df_tonne_c.csv',\n",
    "    'df_composition': 'df_composition.csv',\n",
    "    'df_12_eu': 'df_12_eu.csv',\n",
    "    'df_12_3_eu': 'df_12_3_eu.csv',\n",
    "    'df_top_fruit_veg_wasted': 'df_top_fruit_veg_wasted.csv',\n",
    "    'df_national_fruit': 'df_national_fruit.csv',\n",
    "    'df_country_region': 'df_country_region.csv',\n",
    "    'df_severe_percent': 'df_severe_percent.csv',\n",
    "    'df_moderate_food_percent': 'df_moderate_food_percent.csv',\n",
    "    'df_severe_population': 'df_severe_population.csv',\n",
    "    'df_moderate_population': 'df_moderate_population.csv'\n",
    "}\n",
    "\n",
    "# Create an empty dictionary to store the DataFrames\n",
    "dfs = {}\n",
    "\n",
    "# Import each CSV file and store its DataFrame in the dictionary\n",
    "for df_name, csv_file in dfs_to_import.items():\n",
    "    dfs[df_name] = pd.read_csv(f\"../cleaned/{csv_file}\")"
   ]
  },
  {
   "cell_type": "code",
   "execution_count": 5,
   "metadata": {},
   "outputs": [],
   "source": [
    "\n",
    "# Establish a connection between Python and the food_waste_fp database.\n",
    "connection_string = 'mysql+pymysql://root:' + pw + '@127.0.0.1:3306/'\n",
    "engine = create_engine(connection_string)\n",
    "\n",
    "\n",
    "# Create schema 'food_waste_fp'\n",
    "with engine.connect() as con:\n",
    "    con.execute('CREATE SCHEMA IF NOT EXISTS food_waste_fp')"
   ]
  },
  {
   "cell_type": "code",
   "execution_count": 6,
   "metadata": {},
   "outputs": [
    {
     "name": "stderr",
     "output_type": "stream",
     "text": [
      "C:\\Users\\krant\\AppData\\Local\\Temp\\ipykernel_7736\\1004828719.py:23: FutureWarning: Starting with pandas version 3.0 all arguments of to_sql except for the arguments 'name' and 'con' will be keyword-only.\n",
      "  dfs[df_name].to_sql(table_name, engine, 'food_waste_fp', if_exists='replace', index=False)\n"
     ]
    },
    {
     "name": "stdout",
     "output_type": "stream",
     "text": [
      "All DataFrames saved to SQL tables successfully.\n"
     ]
    }
   ],
   "source": [
    "# Assuming you have an SQLAlchemy engine named 'engine' already created\n",
    "\n",
    "# Dictionary containing DataFrame names and their corresponding SQL table names\n",
    "dfs_to_sql = {\n",
    "    'df_waste_per_c': 'waste_cate_percent',\n",
    "    'df_waste_cap_c': 'waste_cap_cate',\n",
    "    'df_kilo_capita_c': 'kilo_capita_cate',\n",
    "    'df_tonne_c': 'tonne_cate',\n",
    "    'df_composition': 'composition_data',\n",
    "    'df_12_eu': 'data_12_eu',\n",
    "    'df_12_3_eu': 'data_12_3_eu',\n",
    "    'df_top_fruit_veg_wasted': 'top_fruit_veg_wasted_data',\n",
    "    'df_national_fruit': 'national_fruit_data',\n",
    "    'df_country_region': 'country_region_data',\n",
    "    'df_severe_percent': 'severe_percent_data',\n",
    "    'df_moderate_food_percent': 'moderate_food_percent_data',\n",
    "    'df_severe_population': 'severe_population_data',\n",
    "    'df_moderate_population': 'moderate_population_data'\n",
    "}\n",
    "\n",
    "# Loop through each DataFrame and save it to the SQL table\n",
    "for df_name, table_name in dfs_to_sql.items():\n",
    "    dfs[df_name].to_sql(table_name, engine, 'food_waste_fp', if_exists='replace', index=False)\n",
    "\n",
    "print(\"All DataFrames saved to SQL tables successfully.\")"
   ]
  }
 ],
 "metadata": {
  "kernelspec": {
   "display_name": "base",
   "language": "python",
   "name": "python3"
  },
  "language_info": {
   "codemirror_mode": {
    "name": "ipython",
    "version": 3
   },
   "file_extension": ".py",
   "mimetype": "text/x-python",
   "name": "python",
   "nbconvert_exporter": "python",
   "pygments_lexer": "ipython3",
   "version": "3.11.5"
  }
 },
 "nbformat": 4,
 "nbformat_minor": 2
}
