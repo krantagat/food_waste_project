{
 "cells": [
  {
   "cell_type": "code",
   "execution_count": 5,
   "metadata": {},
   "outputs": [],
   "source": [
    "import pandas as pd\n",
    "from sqlalchemy import create_engine \n",
    "import pymysql.cursors\n",
    "import os\n",
    "\n",
    "import urllib.parse\n",
    "\n",
    "\n",
    "pw_raw = os.getenv('kranta_sql_password')\n",
    "pw = urllib.parse.quote_plus(pw_raw)"
   ]
  },
  {
   "cell_type": "code",
   "execution_count": 6,
   "metadata": {},
   "outputs": [],
   "source": [
    "# Import pandas\n",
    "import pandas as pd\n",
    "\n",
    "# Import each DataFrame separately\n",
    "df_waste_per = pd.read_csv(\"../cleaned/df_waste_per.csv\")\n",
    "df_waste_cap = pd.read_csv(\"../cleaned/df_waste_cap.csv\")\n",
    "df_kilo_cap = pd.read_csv(\"../cleaned/df_kilo_cap.csv\")\n",
    "df_tonne_cap = pd.read_csv(\"../cleaned/df_tonne_cap.csv\")\n",
    "df_composition = pd.read_csv(\"../cleaned/df_composition.csv\")\n",
    "df_12_3_eu = pd.read_csv(\"../cleaned/df_12_3_eu.csv\")\n",
    "df_top_wasted = pd.read_csv(\"../cleaned/df_top_wasted.csv\")\n",
    "df_national_fruit = pd.read_csv(\"../cleaned/df_national_fruit.csv\")\n",
    "df_country_region = pd.read_csv(\"../cleaned/df_country_region.csv\")\n",
    "df_severe_percent = pd.read_csv(\"../cleaned/df_severe_percent.csv\")\n",
    "df_moderate_percent = pd.read_csv(\"../cleaned/df_moderate_percent.csv\")\n",
    "df_severe_population = pd.read_csv(\"../cleaned/df_severe_population.csv\")\n",
    "df_moderate_population = pd.read_csv(\"../cleaned/df_moderate_population.csv\")"
   ]
  },
  {
   "cell_type": "code",
   "execution_count": 7,
   "metadata": {},
   "outputs": [],
   "source": [
    "\n",
    "# Establish a connection between Python and the food_waste_fp database.\n",
    "connection_string = 'mysql+pymysql://root:' + pw + '@127.0.0.1:3306/'\n",
    "engine = create_engine(connection_string)\n",
    "\n",
    "\n",
    "# Create schema 'food_waste_fp'\n",
    "with engine.connect() as con:\n",
    "    con.execute('CREATE SCHEMA IF NOT EXISTS waste_less_taste')"
   ]
  },
  {
   "cell_type": "code",
   "execution_count": 8,
   "metadata": {},
   "outputs": [
    {
     "name": "stderr",
     "output_type": "stream",
     "text": [
      "C:\\Users\\krant\\AppData\\Local\\Temp\\ipykernel_2044\\1798920654.py:2: FutureWarning: Starting with pandas version 3.0 all arguments of to_sql except for the arguments 'name' and 'con' will be keyword-only.\n",
      "  df_waste_per.to_sql('waste_per',engine, 'waste_less_taste', if_exists='replace', index=False)\n",
      "C:\\Users\\krant\\AppData\\Local\\Temp\\ipykernel_2044\\1798920654.py:3: FutureWarning: Starting with pandas version 3.0 all arguments of to_sql except for the arguments 'name' and 'con' will be keyword-only.\n",
      "  df_waste_cap.to_sql('waste_cap', engine,'waste_less_taste', if_exists='replace', index=False)\n",
      "C:\\Users\\krant\\AppData\\Local\\Temp\\ipykernel_2044\\1798920654.py:4: FutureWarning: Starting with pandas version 3.0 all arguments of to_sql except for the arguments 'name' and 'con' will be keyword-only.\n",
      "  df_kilo_cap.to_sql('kilo_cap', engine,'waste_less_taste', if_exists='replace', index=False)\n",
      "C:\\Users\\krant\\AppData\\Local\\Temp\\ipykernel_2044\\1798920654.py:5: FutureWarning: Starting with pandas version 3.0 all arguments of to_sql except for the arguments 'name' and 'con' will be keyword-only.\n",
      "  df_tonne_cap.to_sql('tonne_cap', engine,'waste_less_taste', if_exists='replace', index=False)\n",
      "C:\\Users\\krant\\AppData\\Local\\Temp\\ipykernel_2044\\1798920654.py:6: FutureWarning: Starting with pandas version 3.0 all arguments of to_sql except for the arguments 'name' and 'con' will be keyword-only.\n",
      "  df_composition.to_sql('composition', engine,'waste_less_taste', if_exists='replace', index=False)\n",
      "C:\\Users\\krant\\AppData\\Local\\Temp\\ipykernel_2044\\1798920654.py:7: FutureWarning: Starting with pandas version 3.0 all arguments of to_sql except for the arguments 'name' and 'con' will be keyword-only.\n",
      "  df_12_3_eu.to_sql('12_3_eu', engine, 'waste_less_taste',if_exists='replace', index=False)\n",
      "C:\\Users\\krant\\AppData\\Local\\Temp\\ipykernel_2044\\1798920654.py:8: FutureWarning: Starting with pandas version 3.0 all arguments of to_sql except for the arguments 'name' and 'con' will be keyword-only.\n",
      "  df_top_wasted.to_sql('top_wasted', engine,'waste_less_taste', if_exists='replace', index=False)\n",
      "C:\\Users\\krant\\AppData\\Local\\Temp\\ipykernel_2044\\1798920654.py:9: FutureWarning: Starting with pandas version 3.0 all arguments of to_sql except for the arguments 'name' and 'con' will be keyword-only.\n",
      "  df_national_fruit.to_sql('national_fruit', engine,'waste_less_taste', if_exists='replace', index=False)\n",
      "C:\\Users\\krant\\AppData\\Local\\Temp\\ipykernel_2044\\1798920654.py:10: FutureWarning: Starting with pandas version 3.0 all arguments of to_sql except for the arguments 'name' and 'con' will be keyword-only.\n",
      "  df_country_region.to_sql('country_region', engine, 'waste_less_taste',if_exists='replace', index=False)\n",
      "C:\\Users\\krant\\AppData\\Local\\Temp\\ipykernel_2044\\1798920654.py:11: FutureWarning: Starting with pandas version 3.0 all arguments of to_sql except for the arguments 'name' and 'con' will be keyword-only.\n",
      "  df_severe_percent.to_sql('severe_percent', engine,'waste_less_taste', if_exists='replace', index=False)\n",
      "C:\\Users\\krant\\AppData\\Local\\Temp\\ipykernel_2044\\1798920654.py:12: FutureWarning: Starting with pandas version 3.0 all arguments of to_sql except for the arguments 'name' and 'con' will be keyword-only.\n",
      "  df_moderate_percent.to_sql('moderate_percent', engine, 'waste_less_taste',if_exists='replace', index=False)\n",
      "C:\\Users\\krant\\AppData\\Local\\Temp\\ipykernel_2044\\1798920654.py:13: FutureWarning: Starting with pandas version 3.0 all arguments of to_sql except for the arguments 'name' and 'con' will be keyword-only.\n",
      "  df_severe_population.to_sql('severe_population', engine,'waste_less_taste', if_exists='replace', index=False)\n",
      "C:\\Users\\krant\\AppData\\Local\\Temp\\ipykernel_2044\\1798920654.py:14: FutureWarning: Starting with pandas version 3.0 all arguments of to_sql except for the arguments 'name' and 'con' will be keyword-only.\n",
      "  df_moderate_population.to_sql('moderate_population', engine, 'waste_less_taste',if_exists='replace', index=False)\n"
     ]
    },
    {
     "data": {
      "text/plain": [
       "75"
      ]
     },
     "execution_count": 8,
     "metadata": {},
     "output_type": "execute_result"
    }
   ],
   "source": [
    "# Replace 'df_waste_per' with the name of your DataFrame\n",
    "df_waste_per.to_sql('waste_per',engine, 'waste_less_taste', if_exists='replace', index=False)\n",
    "df_waste_cap.to_sql('waste_cap', engine,'waste_less_taste', if_exists='replace', index=False)\n",
    "df_kilo_cap.to_sql('kilo_cap', engine,'waste_less_taste', if_exists='replace', index=False)\n",
    "df_tonne_cap.to_sql('tonne_cap', engine,'waste_less_taste', if_exists='replace', index=False)\n",
    "df_composition.to_sql('composition', engine,'waste_less_taste', if_exists='replace', index=False)\n",
    "df_12_3_eu.to_sql('12_3_eu', engine, 'waste_less_taste',if_exists='replace', index=False)\n",
    "df_top_wasted.to_sql('top_wasted', engine,'waste_less_taste', if_exists='replace', index=False)\n",
    "df_national_fruit.to_sql('national_fruit', engine,'waste_less_taste', if_exists='replace', index=False)\n",
    "df_country_region.to_sql('country_region', engine, 'waste_less_taste',if_exists='replace', index=False)\n",
    "df_severe_percent.to_sql('severe_percent', engine,'waste_less_taste', if_exists='replace', index=False)\n",
    "df_moderate_percent.to_sql('moderate_percent', engine, 'waste_less_taste',if_exists='replace', index=False)\n",
    "df_severe_population.to_sql('severe_population', engine,'waste_less_taste', if_exists='replace', index=False)\n",
    "df_moderate_population.to_sql('moderate_population', engine, 'waste_less_taste',if_exists='replace', index=False)"
   ]
  }
 ],
 "metadata": {
  "kernelspec": {
   "display_name": "base",
   "language": "python",
   "name": "python3"
  },
  "language_info": {
   "codemirror_mode": {
    "name": "ipython",
    "version": 3
   },
   "file_extension": ".py",
   "mimetype": "text/x-python",
   "name": "python",
   "nbconvert_exporter": "python",
   "pygments_lexer": "ipython3",
   "version": "3.11.5"
  }
 },
 "nbformat": 4,
 "nbformat_minor": 2
}
