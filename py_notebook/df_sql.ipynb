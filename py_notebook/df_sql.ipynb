{
 "cells": [
  {
   "cell_type": "code",
   "execution_count": 2,
   "metadata": {},
   "outputs": [],
   "source": [
    "import pandas as pd\n",
    "from sqlalchemy import create_engine \n",
    "import pymysql.cursors\n",
    "import os\n",
    "\n",
    "import urllib.parse\n",
    "\n",
    "\n",
    "pw_raw = os.getenv('kranta_sql_password')\n",
    "pw = urllib.parse.quote_plus(pw_raw)"
   ]
  },
  {
   "cell_type": "code",
   "execution_count": 3,
   "metadata": {},
   "outputs": [],
   "source": [
    "\n",
    "\n",
    "# Establish a connection between Python and the food_waste_fp database.\n",
    "\n",
    "connection_string = 'mysql+pymysql://root:' + pw + '@127.0.0.1:3306/adri'\n",
    "engine = create_engine(connection_string)"
   ]
  },
  {
   "cell_type": "code",
   "execution_count": 4,
   "metadata": {},
   "outputs": [],
   "source": [
    "df_waste_per_c=  pd.read_csv('../source/df_waste_per_c.csv')\n",
    "df_waste_cap_c=  pd.read_csv('../source/df_waste_cap_c.csv')\n",
    "df_kilo_capita_c=  pd.read_csv('../source/df_kilo_capita_c.csv')\n",
    "df_tonne_c=  pd.read_csv('../source/df_tonne_c.csv')\n",
    "df_composition=  pd.read_csv('../source/df_composition.csv')\n",
    "df_bq_keywords_eu=  pd.read_csv('../source/df_bq_keywords_eu.csv')\n",
    "df_12_eu=  pd.read_csv('../source/df_12_eu.csv')\n",
    "df_12_3_eu=  pd.read_csv('../source/df_12_3_eu.csv')\n",
    "df_top_fruit_veg_wasted=  pd.read_csv('../source/df_top_fruit_veg_wasted.csv')\n",
    "df_national_fruit=  pd.read_csv('../source/df_national_fruit.csv')\n",
    "df_country_region=  pd.read_csv('../source/df_country_region.csv')"
   ]
  },
  {
   "cell_type": "code",
   "execution_count": 7,
   "metadata": {},
   "outputs": [
    {
     "name": "stderr",
     "output_type": "stream",
     "text": [
      "C:\\Users\\krant\\AppData\\Local\\Temp\\ipykernel_36360\\2279522101.py:8: FutureWarning: Starting with pandas version 3.0 all arguments of to_sql except for the arguments 'name' and 'con' will be keyword-only.\n",
      "  df_12_3_eu.to_sql('un_target_12_3',engine, 'food_waste_fp', if_exists='replace', index=False)\n"
     ]
    },
    {
     "data": {
      "text/plain": [
       "959"
      ]
     },
     "execution_count": 7,
     "metadata": {},
     "output_type": "execute_result"
    }
   ],
   "source": [
    "# df_waste_per_c.to_sql('waste_cate_percent',engine, 'food_waste_fp', if_exists='replace', index=False)\n",
    "# df_waste_cap_c.to_sql('waste_cate_capita',engine, 'food_waste_fp', if_exists='replace', index=False)\n",
    "# df_kilo_capita_c.to_sql('food_kilo_capita',engine, 'food_waste_fp', if_exists='replace', index=False)\n",
    "# df_tonne_c.to_sql('food_tonne',engine, 'food_waste_fp', if_exists='replace', index=False)\n",
    "# df_composition.to_sql('composition',engine, 'food_waste_fp', if_exists='replace', index=False)\n",
    "# df_bq_keywords_eu.to_sql('bq_keywords',engine, 'food_waste_fp', if_exists='replace', index=False)\n",
    "# df_12_eu.to_sql('un_goal_12',engine, 'food_waste_fp', if_exists='replace', index=False)\n",
    "df_12_3_eu.to_sql('un_target_12_3',engine, 'food_waste_fp', if_exists='replace', index=False)\n",
    "# df_top_fruit_veg_wasted.to_sql('top_fruit_veg',engine, 'food_waste_fp', if_exists='replace', index=False)\n",
    "# df_national_fruit.to_sql('national_fruit',engine, 'food_waste_fp', if_exists='replace', index=False)\n",
    "# df_country_region.to_sql('eu_country_region',engine, 'food_waste_fp', if_exists='replace', index=False)"
   ]
  }
 ],
 "metadata": {
  "kernelspec": {
   "display_name": "base",
   "language": "python",
   "name": "python3"
  },
  "language_info": {
   "codemirror_mode": {
    "name": "ipython",
    "version": 3
   },
   "file_extension": ".py",
   "mimetype": "text/x-python",
   "name": "python",
   "nbconvert_exporter": "python",
   "pygments_lexer": "ipython3",
   "version": "3.11.5"
  }
 },
 "nbformat": 4,
 "nbformat_minor": 2
}
