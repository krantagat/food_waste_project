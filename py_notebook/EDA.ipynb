{
 "cells": [
  {
   "cell_type": "code",
   "execution_count": 1,
   "metadata": {},
   "outputs": [],
   "source": [
    "import pandas as pd\n",
    "import pandas as pd\n",
    "import matplotlib.pyplot as plt\n",
    "import seaborn as sns\n"
   ]
  },
  {
   "cell_type": "code",
   "execution_count": 2,
   "metadata": {},
   "outputs": [],
   "source": [
    "df_waste_per_c=  pd.read_csv('../source/df_waste_per_c.csv')\n",
    "df_waste_cap_c=  pd.read_csv('../source/df_waste_cap_c.csv')\n",
    "df_kilo_capita_c=  pd.read_csv('../source/df_kilo_capita_c.csv')\n",
    "df_tonne_c=  pd.read_csv('../source/df_tonne_c.csv')\n",
    "df_composition=  pd.read_csv('../source/df_composition.csv')\n",
    "df_bq_keywords_eu=  pd.read_csv('../source/df_bq_keywords_eu.csv')\n",
    "df_12_eu=  pd.read_csv('../source/df_12_eu.csv')\n",
    "df_12_3_eu=  pd.read_csv('../source/df_12_3_eu.csv')\n",
    "df_top_fruit_veg_wasted=  pd.read_csv('../source/df_top_fruit_veg_wasted.csv')\n",
    "df_national_fruit=  pd.read_csv('../source/df_national_fruit.csv')\n",
    "df_country_region=  pd.read_csv('../source/df_country_region.csv')"
   ]
  },
  {
   "cell_type": "code",
   "execution_count": 6,
   "metadata": {},
   "outputs": [
    {
     "name": "stdout",
     "output_type": "stream",
     "text": [
      "df_waste_per_c: (76, 17)\n",
      "df_waste_cap_c: (76, 17)\n",
      "df_kilo_capita_c: (54, 9)\n",
      "df_tonne_c: (54, 9)\n",
      "df_composition: (11, 7)\n",
      "df_bq_keywords_eu: (59065, 18)\n",
      "df_12_eu: (1602, 17)\n",
      "df_12_3_eu: (959, 16)\n",
      "df_top_fruit_veg_wasted: (20, 1)\n",
      "df_national_fruit: (22, 2)\n",
      "df_country_region: (49, 2)\n"
     ]
    }
   ],
   "source": [
    "\n",
    "# Create a list of DataFrame names\n",
    "df_list = [\n",
    "    'df_waste_per_c', 'df_waste_cap_c', 'df_kilo_capita_c', 'df_tonne_c',\n",
    "    'df_composition', 'df_bq_keywords_eu', 'df_12_eu', 'df_12_3_eu',\n",
    "    'df_top_fruit_veg_wasted', 'df_national_fruit', 'df_country_region'\n",
    "]\n",
    "\n",
    "# Print shapes of all DataFrames\n",
    "for df_name in df_list:\n",
    "    print(f\"{df_name}: {globals()[df_name].shape}\")"
   ]
  },
  {
   "cell_type": "code",
   "execution_count": 9,
   "metadata": {},
   "outputs": [
    {
     "data": {
      "text/plain": [
       "seriesdescription\n",
       "Domestic material consumption per capita, by type of raw material (tonnes)                                                                                      19946\n",
       "Domestic material consumption, by type of raw material (tonnes)                                                                                                 19946\n",
       "Domestic material consumption per unit of GDP, by type of raw material (kilograms per constant 2011 United States dollars)                                      17992\n",
       "Renewable energy share in the total final energy consumption (%)                                                                                                  544\n",
       "Alcohol consumption per capita (aged 15 years and older) within a calendar year (litres of pure alcohol)                                                          166\n",
       "Prevalence of severe food insecurity in the adult population (%)                                                                                                   72\n",
       "Prevalence of moderate or severe food insecurity in the adult population (%)                                                                                       72\n",
       "Adult population in severe food insecurity (thousands of people)                                                                                                   72\n",
       "Adult population in moderate or severe food insecurity (thousands of people)                                                                                       72\n",
       "Total reported number of Standard Material Transfer Agreements (SMTAs) transferring plant genetic resources for food and agriculture to the country (number)       34\n",
       "Compliance with the Basel Convention on hazardous waste and other chemicals                                                                                        34\n",
       "Compliance with the Montreal Protocol on hazardous waste and other chemicals                                                                                       34\n",
       "Compliance with the Rotterdam Convention on hazardous waste and other chemicals                                                                                    32\n",
       "Compliance with the Stockholm Convention on hazardous waste and other chemicals                                                                                    32\n",
       "Proportion of children moderately or severely wasted (%)                                                                                                           17\n",
       "Name: count, dtype: int64"
      ]
     },
     "execution_count": 9,
     "metadata": {},
     "output_type": "execute_result"
    }
   ],
   "source": []
  }
 ],
 "metadata": {
  "kernelspec": {
   "display_name": "base",
   "language": "python",
   "name": "python3"
  },
  "language_info": {
   "codemirror_mode": {
    "name": "ipython",
    "version": 3
   },
   "file_extension": ".py",
   "mimetype": "text/x-python",
   "name": "python",
   "nbconvert_exporter": "python",
   "pygments_lexer": "ipython3",
   "version": "3.11.5"
  }
 },
 "nbformat": 4,
 "nbformat_minor": 2
}
