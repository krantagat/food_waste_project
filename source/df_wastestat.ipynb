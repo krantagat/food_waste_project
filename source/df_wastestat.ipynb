{
 "cells": [
  {
   "cell_type": "code",
   "execution_count": 8,
   "metadata": {},
   "outputs": [],
   "source": [
    "import pandas as pd\n",
    "\n"
   ]
  },
  {
   "cell_type": "code",
   "execution_count": 170,
   "metadata": {},
   "outputs": [
    {
     "name": "stderr",
     "output_type": "stream",
     "text": [
      "c:\\Users\\krant\\anaconda3\\Lib\\site-packages\\openpyxl\\styles\\stylesheet.py:226: UserWarning: Workbook contains no default style, apply openpyxl's default\n",
      "  warn(\"Workbook contains no default style, apply openpyxl's default\")\n",
      "c:\\Users\\krant\\anaconda3\\Lib\\site-packages\\openpyxl\\styles\\stylesheet.py:226: UserWarning: Workbook contains no default style, apply openpyxl's default\n",
      "  warn(\"Workbook contains no default style, apply openpyxl's default\")\n",
      "C:\\Users\\krant\\AppData\\Local\\Temp\\ipykernel_2812\\4208442924.py:9: DtypeWarning: Columns (9,11,13,14) have mixed types. Specify dtype option on import or set low_memory=False.\n",
      "  df_bq_keywords = pd.read_csv('bq_keywords_food_waste.csv')\n"
     ]
    }
   ],
   "source": [
    "df1_food_waste = pd.read_excel('food_waste.xlsx','Sheet 1')\n",
    "df2_food_waste  = pd.read_excel('food_waste.xlsx','Sheet 2')\n",
    "df3_food_waste  = pd.read_excel('food_waste.xlsx','Sheet 3')\n",
    "df4_food_waste  = pd.read_excel('food_waste.xlsx','Sheet 4')\n",
    "\n",
    "df1_waste_cate = pd.read_excel('waste_cate.xlsx', 'Sheet 1') \n",
    "df2_waste_cate = pd.read_excel('waste_cate.xlsx', 'Sheet 2')\n",
    "\n",
    "df_bq_keywords = pd.read_csv('bq_keywords_food_waste.csv')\n",
    "\n",
    "#print the column names\n",
    "# df\n"
   ]
  }
 ],
 "metadata": {
  "kernelspec": {
   "display_name": "base",
   "language": "python",
   "name": "python3"
  },
  "language_info": {
   "codemirror_mode": {
    "name": "ipython",
    "version": 3
   },
   "file_extension": ".py",
   "mimetype": "text/x-python",
   "name": "python",
   "nbconvert_exporter": "python",
   "pygments_lexer": "ipython3",
   "version": "3.11.5"
  }
 },
 "nbformat": 4,
 "nbformat_minor": 2
}
